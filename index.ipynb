{
 "cells": [
  {
   "cell_type": "code",
   "execution_count": 21,
   "metadata": {},
   "outputs": [
    {
     "output_type": "stream",
     "name": "stdout",
     "text": "{\n  \"_version\": \"2.0.0\",\n  \"_songName\": \"Believer (100k ver.)\",\n  \"_songSubName\": \"\",\n  \"_songAuthorName\": \"Imagine Dragons\",\n  \"_levelAuthorName\": \"Rustic\",\n  \"_beatsPerMinute\": 125,\n  \"_songTimeOffset\": 0,\n  \"_shuffle\": 0,\n  \"_shufflePeriod\": 0.25,\n  \"_previewStartTime\": 12,\n  \"_previewDuration\": 10,\n  \"_songFilename\": \"song.egg\",\n  \"_coverImageFilename\": \"cover.jpg\",\n  \"_environmentName\": \"TriangleEnvironment\",\n  \"_customData\": {\n    \"_contributors\": [],\n    \"_customEnvironment\": \"\",\n    \"_customEnvironmentHash\": \"\"\n  },\n  \"_difficultyBeatmapSets\": [\n    {\n      \"_beatmapCharacteristicName\": \"Standard\",\n      \"_difficultyBeatmaps\": [\n        {\n          \"_difficulty\": \"Easy\",\n          \"_difficultyRank\": 1,\n          \"_beatmapFilename\": \"Easy.dat\",\n          \"_noteJumpMovementSpeed\": 10,\n          \"_noteJumpStartBeatOffset\": 0,\n          \"_customData\": {\n            \"_difficultyLabel\": \"\",\n            \"_editorOffset\": 0,\n            \"_editorOldOffset\": 0,\n            \"_warnings\": [],\n            \"_information\": [],\n            \"_suggestions\": [],\n            \"_requirements\": []\n          }\n        },\n        {\n          \"_difficulty\": \"Normal\",\n          \"_difficultyRank\": 3,\n          \"_beatmapFilename\": \"Normal.dat\",\n          \"_noteJumpMovementSpeed\": 10,\n          \"_noteJumpStartBeatOffset\": 0,\n          \"_customData\": {\n            \"_difficultyLabel\": \"\",\n            \"_editorOffset\": 0,\n            \"_editorOldOffset\": 0,\n            \"_warnings\": [],\n            \"_information\": [],\n            \"_suggestions\": [],\n            \"_requirements\": []\n          }\n        },\n        {\n          \"_difficulty\": \"Hard\",\n          \"_difficultyRank\": 5,\n          \"_beatmapFilename\": \"Hard.dat\",\n          \"_noteJumpMovementSpeed\": 11,\n          \"_noteJumpStartBeatOffset\": 0,\n          \"_customData\": {\n            \"_difficultyLabel\": \"\",\n            \"_editorOffset\": 0,\n            \"_editorOldOffset\": 0,\n            \"_warnings\": [],\n            \"_information\": [],\n            \"_suggestions\": [],\n            \"_requirements\": []\n          }\n        },\n        {\n          \"_difficulty\": \"Expert\",\n          \"_difficultyRank\": 7,\n          \"_beatmapFilename\": \"Expert.dat\",\n          \"_noteJumpMovementSpeed\": 12,\n          \"_noteJumpStartBeatOffset\": 0,\n          \"_customData\": {\n            \"_difficultyLabel\": \"\",\n            \"_editorOffset\": 0,\n            \"_editorOldOffset\": 0,\n            \"_warnings\": [],\n            \"_information\": [],\n            \"_suggestions\": [],\n            \"_requirements\": []\n          }\n        }\n      ]\n    }\n  ]\n}\n\n"
    }
   ],
   "source": [
    "f = open('test/info.dat', 'r')\n",
    "info=f.read()    \n",
    "print(info)"
   ]
  },
  {
   "cell_type": "code",
   "execution_count": 23,
   "metadata": {},
   "outputs": [
    {
     "output_type": "stream",
     "name": "stdout",
     "text": "hi\n"
    }
   ],
   "source": [
    "print('hi')"
   ]
  },
  {
   "cell_type": "code",
   "execution_count": 24,
   "metadata": {},
   "outputs": [
    {
     "output_type": "execute_result",
     "data": {
      "text/plain": "dict"
     },
     "metadata": {},
     "execution_count": 24
    }
   ],
   "source": [
    "import json\n",
    "jinfo = json.loads(info)\n",
    "type(jinfo)"
   ]
  },
  {
   "cell_type": "code",
   "execution_count": 26,
   "metadata": {},
   "outputs": [
    {
     "output_type": "execute_result",
     "data": {
      "text/plain": "{'_version': '2.0.0',\n '_songName': 'Believer (100k ver.)',\n '_songSubName': '',\n '_songAuthorName': 'Imagine Dragons',\n '_levelAuthorName': 'Rustic',\n '_beatsPerMinute': 125,\n '_songTimeOffset': 0,\n '_shuffle': 0,\n '_shufflePeriod': 0.25,\n '_previewStartTime': 12,\n '_previewDuration': 10,\n '_songFilename': 'song.egg',\n '_coverImageFilename': 'cover.jpg',\n '_environmentName': 'TriangleEnvironment',\n '_customData': {'_contributors': [],\n  '_customEnvironment': '',\n  '_customEnvironmentHash': ''},\n '_difficultyBeatmapSets': [{'_beatmapCharacteristicName': 'Standard',\n   '_difficultyBeatmaps': [{'_difficulty': 'Easy',\n     '_difficultyRank': 1,\n     '_beatmapFilename': 'Easy.dat',\n     '_noteJumpMovementSpeed': 10,\n     '_noteJumpStartBeatOffset': 0,\n     '_customData': {'_difficultyLabel': '',\n      '_editorOffset': 0,\n      '_editorOldOffset': 0,\n      '_warnings': [],\n      '_information': [],\n      '_suggestions': [],\n      '_requirements': []}},\n    {'_difficulty': 'Normal',\n     '_difficultyRank': 3,\n     '_beatmapFilename': 'Normal.dat',\n     '_noteJumpMovementSpeed': 10,\n     '_noteJumpStartBeatOffset': 0,\n     '_customData': {'_difficultyLabel': '',\n      '_editorOffset': 0,\n      '_editorOldOffset': 0,\n      '_warnings': [],\n      '_information': [],\n      '_suggestions': [],\n      '_requirements': []}},\n    {'_difficulty': 'Hard',\n     '_difficultyRank': 5,\n     '_beatmapFilename': 'Hard.dat',\n     '_noteJumpMovementSpeed': 11,\n     '_noteJumpStartBeatOffset': 0,\n     '_customData': {'_difficultyLabel': '',\n      '_editorOffset': 0,\n      '_editorOldOffset': 0,\n      '_warnings': [],\n      '_information': [],\n      '_suggestions': [],\n      '_requirements': []}},\n    {'_difficulty': 'Expert',\n     '_difficultyRank': 7,\n     '_beatmapFilename': 'Expert.dat',\n     '_noteJumpMovementSpeed': 12,\n     '_noteJumpStartBeatOffset': 0,\n     '_customData': {'_difficultyLabel': '',\n      '_editorOffset': 0,\n      '_editorOldOffset': 0,\n      '_warnings': [],\n      '_information': [],\n      '_suggestions': [],\n      '_requirements': []}}]}]}"
     },
     "metadata": {},
     "execution_count": 26
    }
   ],
   "source": [
    "jinfo"
   ]
  },
  {
   "cell_type": "code",
   "execution_count": null,
   "metadata": {},
   "outputs": [],
   "source": [
    "#what things would I want from the file?\n",
    "# song name, song author, bpm, "
   ]
  }
 ],
 "metadata": {
  "language_info": {
   "codemirror_mode": {
    "name": "ipython",
    "version": 3
   },
   "file_extension": ".py",
   "mimetype": "text/x-python",
   "name": "python",
   "nbconvert_exporter": "python",
   "pygments_lexer": "ipython3",
   "version": "3.7.6-final"
  },
  "orig_nbformat": 2,
  "kernelspec": {
   "name": "python37364bitbasecondacf769521cca949f7a98f8d237636f145",
   "display_name": "Python 3.7.3 64-bit ('base': conda)"
  }
 },
 "nbformat": 4,
 "nbformat_minor": 2
}